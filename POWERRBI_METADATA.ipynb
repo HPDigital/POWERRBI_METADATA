{
 "cells": [
  {
   "cell_type": "code",
   "execution_count": 3,
   "id": "1da0a6a6",
   "metadata": {},
   "outputs": [
    {
     "name": "stdout",
     "output_type": "stream",
     "text": [
      "\"Metadata file not found in the .pbix archive.\"\n"
     ]
    }
   ],
   "source": [
    "import shutil\n",
    "import os\n",
    "import json\n",
    "\n",
    "def extract_metadata(pbix_path):\n",
    "    # Renombrar el archivo .pbix a .zip\n",
    "    zip_path = pbix_path.replace('.pbix', '.zip')\n",
    "    shutil.copyfile(pbix_path, zip_path)\n",
    "    \n",
    "    # Crear un directorio temporal para extraer los archivos\n",
    "    temp_dir = 'temp_extracted_files'\n",
    "    os.makedirs(temp_dir, exist_ok=True)\n",
    "    \n",
    "    # Extraer el archivo .zip\n",
    "    shutil.unpack_archive(zip_path, temp_dir)\n",
    "    \n",
    "    # Leer el archivo metadata.json\n",
    "    metadata_file = os.path.join(temp_dir, 'Metadata', 'metadata.json')\n",
    "    if os.path.exists(metadata_file):\n",
    "        with open(metadata_file, 'r', encoding='utf-8') as f:\n",
    "            metadata = json.load(f)\n",
    "        shutil.rmtree(temp_dir)\n",
    "        os.remove(zip_path)\n",
    "        return metadata\n",
    "    else:\n",
    "        shutil.rmtree(temp_dir)\n",
    "        os.remove(zip_path)\n",
    "        return \"Metadata file not found in the .pbix archive.\"\n",
    "\n",
    "# Path to your .pbix file\n",
    "pbix_path = r\"C:\\Users\\HP\\Downloads\\Examen 1-SEM 17.pbix\"\n",
    "metadata = extract_metadata(pbix_path)\n",
    "\n",
    "# Print extracted metadata\n",
    "print(json.dumps(metadata, indent=4))\n",
    "\n"
   ]
  },
  {
   "cell_type": "code",
   "execution_count": 7,
   "id": "c660c3f4",
   "metadata": {},
   "outputs": [
    {
     "name": "stdout",
     "output_type": "stream",
     "text": [
      "{'name': None, 'description': None, 'tables': []}\n"
     ]
    }
   ],
   "source": [
    "import zipfile\n",
    "import os\n",
    "import json\n",
    "\n",
    "def extract_pbix_metadata(pbix_file_path):\n",
    "    if not os.path.exists(pbix_file_path):\n",
    "        raise FileNotFoundError(f\"The file {pbix_file_path} does not exist.\")\n",
    "\n",
    "    # Create a directory to extract the PBIX contents\n",
    "    extract_dir = pbix_file_path + \"_extracted\"\n",
    "    os.makedirs(extract_dir, exist_ok=True)\n",
    "\n",
    "    # Extract the PBIX file (which is a ZIP file)\n",
    "    with zipfile.ZipFile(pbix_file_path, 'r') as zip_ref:\n",
    "        zip_ref.extractall(extract_dir)\n",
    "\n",
    "    # Read the metadata file (typically the metadata is stored in a JSON file within the PBIX)\n",
    "    metadata_file_path = os.path.join(extract_dir, 'Report', 'Layout')\n",
    "    if not os.path.exists(metadata_file_path):\n",
    "        raise FileNotFoundError(f\"The metadata file was not found in the extracted PBIX contents.\")\n",
    "\n",
    "    # Read the file content as bytes\n",
    "    with open(metadata_file_path, 'rb') as file:\n",
    "        file_content = file.read()\n",
    "\n",
    "    # Try decoding the content with different encodings\n",
    "    for encoding in ['utf-8', 'utf-8-sig', 'utf-16', 'utf-16le', 'utf-16be']:\n",
    "        try:\n",
    "            metadata_str = file_content.decode(encoding)\n",
    "            metadata_json = json.loads(metadata_str)\n",
    "            break\n",
    "        except (UnicodeDecodeError, json.JSONDecodeError):\n",
    "            continue\n",
    "    else:\n",
    "        raise ValueError(\"The metadata file could not be decoded with common encodings.\")\n",
    "\n",
    "    # Extract relevant metadata\n",
    "    metadata = {\n",
    "        \"name\": metadata_json.get(\"name\"),\n",
    "        \"description\": metadata_json.get(\"description\"),\n",
    "        \"tables\": []\n",
    "    }\n",
    "\n",
    "    for table in metadata_json.get(\"model\", {}).get(\"tables\", []):\n",
    "        table_info = {\n",
    "            \"name\": table.get(\"name\"),\n",
    "            \"columns\": []\n",
    "        }\n",
    "        for column in table.get(\"columns\", []):\n",
    "            column_info = {\n",
    "                \"name\": column.get(\"name\"),\n",
    "                \"data_type\": column.get(\"dataType\"),\n",
    "                \"is_hidden\": column.get(\"isHidden\", False)\n",
    "            }\n",
    "            table_info[\"columns\"].append(column_info)\n",
    "        \n",
    "        metadata[\"tables\"].append(table_info)\n",
    "\n",
    "    return metadata\n",
    "\n",
    "\n",
    "# Example usage\n",
    "pbix_file_path =  r\"C:\\Users\\HP\\Downloads\\Examen 1-SEM 17.pbix\"\n",
    "metadata = extract_pbix_metadata(pbix_file_path)\n",
    "print(metadata)\n"
   ]
  },
  {
   "cell_type": "code",
   "execution_count": null,
   "id": "33eef16b",
   "metadata": {},
   "outputs": [],
   "source": []
  }
 ],
 "metadata": {
  "kernelspec": {
   "display_name": "Python 3 (ipykernel)",
   "language": "python",
   "name": "python3"
  },
  "language_info": {
   "codemirror_mode": {
    "name": "ipython",
    "version": 3
   },
   "file_extension": ".py",
   "mimetype": "text/x-python",
   "name": "python",
   "nbconvert_exporter": "python",
   "pygments_lexer": "ipython3",
   "version": "3.11.7"
  }
 },
 "nbformat": 4,
 "nbformat_minor": 5
}
